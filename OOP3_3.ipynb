{
 "cells": [
  {
   "cell_type": "code",
   "execution_count": 36,
   "metadata": {},
   "outputs": [],
   "source": [
    "with open ('1.txt', encoding='utf-8') as r1:\n",
    "    lines1 = r1.readlines()\n",
    "with open ('2.txt', encoding='utf-8') as r2:\n",
    "    lines2 = r2.readlines()    \n",
    "with open ('3.txt', encoding='utf-8') as r3:\n",
    "    lines3 = r3.readlines()\n",
    "quantity = [lines1, lines2, lines3]\n",
    "quantity.sort(key=len)\n",
    "with open ('resalt.txt', 'a', encoding='utf-8') as r:\n",
    "    for i in quantity:\n",
    "        for g in i:\n",
    "            r.write(g)"
   ]
  }
 ],
 "metadata": {
  "kernelspec": {
   "display_name": "Python 3",
   "language": "python",
   "name": "python3"
  },
  "language_info": {
   "codemirror_mode": {
    "name": "ipython",
    "version": 3
   },
   "file_extension": ".py",
   "mimetype": "text/x-python",
   "name": "python",
   "nbconvert_exporter": "python",
   "pygments_lexer": "ipython3",
   "version": "3.11.2"
  },
  "orig_nbformat": 4
 },
 "nbformat": 4,
 "nbformat_minor": 2
}
